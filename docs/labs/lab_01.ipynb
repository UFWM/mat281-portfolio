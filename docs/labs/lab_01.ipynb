{
  "cells": [
    {
      "cell_type": "markdown",
      "id": "e2696553",
      "metadata": {
        "id": "e2696553"
      },
      "source": [
        "<a href=\"https://colab.research.google.com/github/fralfaro/MAT281_2023/blob/main/docs/labs/lab_01.ipynb\" target=\"_parent\"><img src=\"https://colab.research.google.com/assets/colab-badge.svg\" alt=\"Open In Colab\"/></a>\n",
        "\n",
        "\n",
        "# MAT281 - Laboratorio N°01\n"
      ]
    },
    {
      "cell_type": "markdown",
      "id": "a869ace0",
      "metadata": {
        "id": "a869ace0"
      },
      "source": [
        "## Problema 01\n",
        "\n",
        "En los siglos XVII y XVIII, James Gregory y Gottfried Leibniz descubrieron una serie infinita que sirve para calcular $\\pi$:\n",
        "\n",
        "$$\\displaystyle \\pi = 4 \\sum_{k=1}^{\\infty}\\dfrac{(-1)^{k+1}}{2k-1} = 4(1-\\dfrac{1}{3}+\\dfrac{1}{5}-\\dfrac{1}{7} + ...) $$\n",
        "\n",
        "Desarolle un programa para estimar el valor de $\\pi$ ocupando el método de Leibniz, donde la entrada del programa debe ser un número entero $n$ que indique cuántos términos de la suma se utilizará.\n",
        "\n",
        "\n",
        "* **Ejemplo**:\n",
        "    * *calcular_pi(3)* = 3.466666666666667\n",
        "    * *calcular_pi(1000)* = 3.140592653839794"
      ]
    },
    {
      "cell_type": "code",
      "execution_count": null,
      "id": "dd54e855",
      "metadata": {
        "colab": {
          "base_uri": "https://localhost:8080/"
        },
        "id": "dd54e855",
        "outputId": "b5f6eccc-b2f0-4033-ea7c-b726da1b7a2b"
      },
      "outputs": [
        {
          "output_type": "stream",
          "name": "stdout",
          "text": [
            "Ejemplos\n",
            "calcular_pi(3) = 3.466666666666667\n",
            "calcular_pi(1000) = 3.140592653839794 \n",
            "\n",
            "Ingrese un numero entero: 4\n",
            "calcular_pi(4) = 2.8952380952380956\n"
          ]
        }
      ],
      "source": [
        "def calcular_pi(n:int):\n",
        "  k=1\n",
        "  sum=0\n",
        "\n",
        "  while k<=n:\n",
        "    sum+=(-1)**(k+1)/(2*k-1)\n",
        "    k+=1\n",
        "\n",
        "  return 4*sum\n",
        "\n",
        "print(\"Ejemplos\")\n",
        "print(\"calcular_pi(3) =\",calcular_pi(3))\n",
        "print(\"calcular_pi(1000) =\",calcular_pi(1000),\"\\n\")\n",
        "n=int(input(\"Ingrese un numero entero: \"))\n",
        "print(\"calcular_pi({0}) = {1}\".format(n,calcular_pi(n)))\n"
      ]
    },
    {
      "cell_type": "markdown",
      "id": "c26be634",
      "metadata": {
        "id": "c26be634"
      },
      "source": [
        "## Problema 02\n",
        "\n",
        "Euler realizó varios aportes en relación a $e$, pero no fue hasta 1748 cuando publicó su **Introductio in analysin infinitorum** que dio un tratamiento definitivo a las ideas sobre $e$. Allí mostró que:\n",
        "\n",
        "\n",
        "En los siglos XVII y XVIII, James Gregory y Gottfried Leibniz descubrieron una serie infinita que sirve para calcular π:\n",
        "\n",
        "$$\\displaystyle e = \\sum_{k=0}^{\\infty}\\dfrac{1}{k!} = 1+\\dfrac{1}{2!}+\\dfrac{1}{3!}+\\dfrac{1}{4!} + ... $$\n",
        "\n",
        "Desarolle un programa para estimar el valor de $e$ ocupando el método de Euler, donde la entrada del programa debe ser un número entero $n$ que indique cuántos términos de la suma se utilizará.\n",
        "\n",
        "Para esto:\n",
        "\n",
        "* a) Defina la función `factorial`, donde la entrada sea un número natural  $n$ y la salida sea el factorial de dicho número.\n",
        "    * **Ejemplo**: *factorial(3)* =3, *factorial(5)* = 120\n",
        "    \n",
        "    \n",
        "* b) Ocupe la función `factorial` dentro de la función `calcular_e`.     \n",
        "    * **Ejemplo**: *calcular_e(3)* = 2.6666666666666665, *calcular_e(1000)* = 2.7182818284590455"
      ]
    },
    {
      "cell_type": "code",
      "execution_count": null,
      "id": "706d4c0a",
      "metadata": {
        "colab": {
          "base_uri": "https://localhost:8080/"
        },
        "id": "706d4c0a",
        "outputId": "cec8d0b1-9000-4108-f635-a1872d4db742"
      },
      "outputs": [
        {
          "output_type": "stream",
          "name": "stdout",
          "text": [
            "a) Funcion \"factorial\"\n",
            "\n",
            "Ejemplos\n",
            "factorial(3) = 6\n",
            "factorial(5) = 120 \n",
            "\n",
            "Ingrese un numero entero: 10\n",
            "factorial(10) = 3628800 \n",
            "\n",
            "b) Funcion \"calcular_e\"\n",
            "\n",
            "Ejemplos\n",
            "calcular_e(3) = 2.6666666666666665\n",
            "calcular_e(1000) = 2.7182818284590455 \n",
            "\n",
            "Ingrese un numero entero: 10\n",
            "calcular_e(10) = 2.7182818011463845\n"
          ]
        }
      ],
      "source": [
        "def factorial(n:int):\n",
        "  k=1\n",
        "  prod=1\n",
        "\n",
        "  while k<=n:\n",
        "    prod*=k\n",
        "    k+=1\n",
        "\n",
        "  return prod\n",
        "\n",
        "def calcular_e(n:int):\n",
        "  k=0\n",
        "  sum=0\n",
        "\n",
        "  while k<=n:\n",
        "    sum+=1/factorial(k)\n",
        "    k+=1\n",
        "\n",
        "  return sum\n",
        "\n",
        "print('a) Funcion \"factorial\"\\n')\n",
        "print(\"Ejemplos\")\n",
        "print(\"factorial(3) =\",factorial(3))\n",
        "print(\"factorial(5) =\",factorial(5),\"\\n\")\n",
        "n=int(input(\"Ingrese un numero entero: \"))\n",
        "print(\"factorial({0}) = {1}\".format(n,factorial(n)),\"\\n\")\n",
        "print('b) Funcion \"calcular_e\"\\n')\n",
        "print(\"Ejemplos\")\n",
        "print(\"calcular_e(3) =\",calcular_e(3))\n",
        "print(\"calcular_e(1000) =\",calcular_e(1000),\"\\n\")\n",
        "m=int(input(\"Ingrese un numero entero: \"))\n",
        "print(\"calcular_e({0}) = {1}\".format(m,calcular_e(m)))"
      ]
    },
    {
      "cell_type": "markdown",
      "id": "9707be93",
      "metadata": {
        "id": "9707be93"
      },
      "source": [
        "## Problema 03\n",
        "\n",
        "Sea $\\sigma(n)$ definido como la suma de los divisores propios de $n$ (números menores que n que se dividen en $n$).\n",
        "\n",
        "Los [números amigos](https://en.wikipedia.org/wiki/Amicable_numbers) son  enteros positivos $n_1$ y $n_2$ tales que la suma de los divisores propios de uno es igual al otro número y viceversa, es decir, $\\sigma(n_1)=n_2$ y $\\sigma(n_2)=n_1$.\n",
        "\n",
        "\n",
        "Por ejemplo, los números 220 y 284 son números amigos.\n",
        "* los divisores propios de 220 son 1, 2, 4, 5, 10, 11, 20, 22, 44, 55 y 110; por lo tanto $\\sigma(220) = 284$.\n",
        "* los divisores propios de 284 son 1, 2, 4, 71 y 142; entonces $\\sigma(284) = 220$.\n",
        "\n",
        "\n",
        "Implemente una función llamada `amigos` cuyo input sean dos números naturales $n_1$ y $n_2$, cuyo output sea verifique si los números son amigos o no.\n",
        "\n",
        "Para esto:\n",
        "\n",
        "* a) Defina la función `divisores_propios`, donde la entrada sea un número natural $n$ y la salida sea una lista con los divisores propios de dicho número.\n",
        "    * **Ejemplo**: *divisores_propios(220)* = [1, 2, 4, 5, 10, 11, 20, 22, 44, 55 y 110], *divisores_propios(284)* = [1, 2, 4, 71 y 142]\n",
        "    \n",
        "    \n",
        "* b) Ocupe la función `divisores_propios` dentro de la función `amigos`.\n",
        "\n",
        "    * **Ejemplo**: *amigos(220,284)* = True, *amigos(6,5)* = False"
      ]
    },
    {
      "cell_type": "code",
      "execution_count": null,
      "id": "e695ea21",
      "metadata": {
        "colab": {
          "base_uri": "https://localhost:8080/"
        },
        "id": "e695ea21",
        "outputId": "b1578d4a-f18d-43a2-a5da-34a20c84c819"
      },
      "outputs": [
        {
          "output_type": "stream",
          "name": "stdout",
          "text": [
            "a) Funcion \"divisores_propios\"\n",
            "\n",
            "Ejemplos\n",
            "divisores_propios(220) = [1, 2, 4, 5, 10, 11, 20, 22, 44, 55, 110]\n",
            "divisores_propios(284) = [1, 2, 4, 71, 142] \n",
            "\n",
            "Ingrese un numero entero: 6\n",
            "divisores_propios(6) = [1, 2, 3] \n",
            "\n",
            "b) Funcion \"amigos\"\n",
            "\n",
            "Ejemplos\n",
            "amigos(220,284) = True\n",
            "amigos(6,5) = False \n",
            "\n",
            "Ingrese dos numeros enteros: 220 284\n",
            "amigos(220,284) = True\n"
          ]
        }
      ],
      "source": [
        "def divisores_propios(n:int):\n",
        "  k=1\n",
        "  div_n=[]\n",
        "\n",
        "  while k<n:\n",
        "    if n%k==0:\n",
        "      div_n.append(k)\n",
        "    k+=1\n",
        "\n",
        "  return div_n\n",
        "\n",
        "def amigos(n:int,m:int):\n",
        "  div_n=divisores_propios(n)\n",
        "  div_m=divisores_propios(m)\n",
        "  divsum_n=0\n",
        "  divsum_m=0\n",
        "\n",
        "  for i in div_n:\n",
        "    divsum_n+=i\n",
        "  for j in div_m:\n",
        "    divsum_m+=j\n",
        "\n",
        "  if divsum_n==m and divsum_m==n:\n",
        "    return True\n",
        "\n",
        "  return False\n",
        "\n",
        "print('a) Funcion \"divisores_propios\"\\n')\n",
        "print(\"Ejemplos\")\n",
        "print(\"divisores_propios(220) =\",divisores_propios(220))\n",
        "print(\"divisores_propios(284) =\",divisores_propios(284),\"\\n\")\n",
        "n=int(input(\"Ingrese un numero entero: \"))\n",
        "print(\"divisores_propios({0}) = {1}\".format(n,divisores_propios(n)),\"\\n\")\n",
        "print('\\nb) Funcion \"amigos\"\\n')\n",
        "print(\"Ejemplos\")\n",
        "print(\"amigos(220,284) =\",amigos(220,284))\n",
        "print(\"amigos(6,5) =\",amigos(6,5),\"\\n\")\n",
        "p,q=map(int, input(\"Ingrese dos numeros enteros: \").split())\n",
        "print(\"amigos({0},{1}) = {2}\".format(p,q,amigos(p,q)))\n",
        "\n",
        "\n",
        "\n",
        "\n"
      ]
    },
    {
      "cell_type": "markdown",
      "id": "cf93a039",
      "metadata": {
        "id": "cf93a039"
      },
      "source": [
        "## Problema 04\n",
        "\n",
        "La [conjetura de Collatz](https://en.wikipedia.org/wiki/Collatz_conjecture), conocida también como conjetura $3n+1$ o conjetura de Ulam (entre otros nombres), fue enunciada por el matemático Lothar Collatz en 1937, y a la fecha no se ha resuelto.\n",
        "\n",
        "Sea la siguiente operación, aplicable a cualquier número entero positivo:\n",
        "* Si el número es par, se divide entre 2.\n",
        "* Si el número es impar, se multiplica por 3 y se suma 1.\n",
        "\n",
        "La conjetura dice que siempre alcanzaremos el 1 (y por tanto el ciclo 4, 2, 1) para cualquier número con el que comencemos.\n",
        "\n",
        "Implemente una función llamada `collatz` cuyo input sea un número natural positivo $N$ y como output devulva la secuencia de números hasta llegar a 1.\n",
        "\n",
        "* **Ejemplo**: *collatz(9)* = [9, 28, 14, 7, 22, 11, 34, 17, 52, 26, 13, 40, 20, 10, 5, 16, 8, 4, 2, 1]"
      ]
    },
    {
      "cell_type": "code",
      "execution_count": null,
      "id": "10501a00",
      "metadata": {
        "colab": {
          "base_uri": "https://localhost:8080/"
        },
        "id": "10501a00",
        "outputId": "be66ed43-8eee-42b1-ebbf-54abac941937"
      },
      "outputs": [
        {
          "output_type": "stream",
          "name": "stdout",
          "text": [
            "Ejemplo\n",
            "collatz(9) = [9, 28, 14, 7, 22, 11, 34, 17, 52, 26, 13, 40, 20, 10, 5, 16, 8, 4, 2, 1] \n",
            "\n",
            "Ingrese un numero entero: 27\n",
            "collatz(27) = [27, 82, 41, 124, 62, 31, 94, 47, 142, 71, 214, 107, 322, 161, 484, 242, 121, 364, 182, 91, 274, 137, 412, 206, 103, 310, 155, 466, 233, 700, 350, 175, 526, 263, 790, 395, 1186, 593, 1780, 890, 445, 1336, 668, 334, 167, 502, 251, 754, 377, 1132, 566, 283, 850, 425, 1276, 638, 319, 958, 479, 1438, 719, 2158, 1079, 3238, 1619, 4858, 2429, 7288, 3644, 1822, 911, 2734, 1367, 4102, 2051, 6154, 3077, 9232, 4616, 2308, 1154, 577, 1732, 866, 433, 1300, 650, 325, 976, 488, 244, 122, 61, 184, 92, 46, 23, 70, 35, 106, 53, 160, 80, 40, 20, 10, 5, 16, 8, 4, 2, 1]\n"
          ]
        }
      ],
      "source": [
        "def collatz(n:int):\n",
        "  seq=[n]\n",
        "\n",
        "  while n!=1:\n",
        "    if n%2==0:\n",
        "      n=n//2\n",
        "    else:\n",
        "      n=3*n+1\n",
        "\n",
        "    seq.append(n)\n",
        "\n",
        "  return seq\n",
        "\n",
        "print(\"Ejemplo\")\n",
        "print(\"collatz(9) =\",collatz(9),\"\\n\")\n",
        "n=int(input(\"Ingrese un numero entero: \"))\n",
        "print(\"collatz({0}) = {1}\".format(n,collatz(n)))"
      ]
    },
    {
      "cell_type": "markdown",
      "id": "d15af4eb",
      "metadata": {
        "id": "d15af4eb"
      },
      "source": [
        "## Problema 05\n",
        "La [conjetura de Goldbach](https://en.wikipedia.org/wiki/Goldbach%27s_conjecture) es uno de los problemas abiertos más antiguos en matemáticas. Concretamente, G.H. Hardy, en 1921, en su famoso discurso pronunciado en la Sociedad Matemática de Copenhague, comentó que probablemente la conjetura de Goldbach no es solo uno de los problemas no resueltos más difíciles de la teoría de números, sino de todas las matemáticas. Su enunciado es el siguiente:\n",
        "\n",
        "> Todo número par mayor que 2 puede escribirse como suma de dos números primos - Christian Goldbach (1742)\n",
        "\n",
        "Implemente una función llamada `goldbach` cuyo input sea un número natural positivo $n$ y como output devuelva la suma de dos primos ($n_1$ y $n_2$) tal que: $n_1+n_2=n$.\n",
        "\n",
        "Para esto:\n",
        "\n",
        "* a) Defina la función `es_primo`, donde la entrada sea un número natural $n$ y la salida sea **True** si el número es primo y **False** en otro caso.\n",
        "    * **Ejemplo**: *es_primo(3)* = True, *es_primo(4)* = False\n",
        "    \n",
        "    \n",
        "* b)  Defina la función `lista_de_primos`, donde la entrada sea un número natural par $n$ mayor que dos y la salida sea una lista con todos los número primos entre 2 y $n$.\n",
        "    * **Ejemplo**: *lista_de_primos(4)* = [2,3], *lista_de_primos(6)* = [2,3,5], *lista_de_primos(8)* = [2,3,5,7]\n",
        "\n",
        "\n",
        "* c) Ocupe la función `lista_de_primos` dentro de la función `goldbash`.\n",
        " * **Ejemplo**: goldbash(4) = (2,2), goldbash(6) = (3,3) , goldbash(8) = (3,5)"
      ]
    },
    {
      "cell_type": "code",
      "execution_count": 1,
      "id": "cccb4ae0",
      "metadata": {
        "colab": {
          "base_uri": "https://localhost:8080/"
        },
        "id": "cccb4ae0",
        "outputId": "36527991-8a05-4259-bf56-6b64153c5ed2"
      },
      "outputs": [
        {
          "output_type": "stream",
          "name": "stdout",
          "text": [
            "a) Funcion \"es_primo\"\n",
            "\n",
            "Ejemplos\n",
            "es_primo(3) = True\n",
            "es_primo(4) = False \n",
            "\n",
            "Ingrese un numero entero: 113\n",
            "esprimo(113) = True \n",
            "\n",
            "b) Funcion \"lista_de_primos\"\n",
            "\n",
            "Ejemplos\n",
            "lista_de_primos(4) = [2, 3]\n",
            "lista_de_primos(6) = [2, 3, 5]\n",
            "lista_de_primos(8) = [2, 3, 5, 7] \n",
            "\n",
            "Ingrese un numero entero: 100\n",
            "lista_de_primos(100) = [2, 3, 5, 7, 11, 13, 17, 19, 23, 29, 31, 37, 41, 43, 47, 53, 59, 61, 67, 71, 73, 79, 83, 89, 97] \n",
            "\n",
            "c) Funcion \"golbach\"\n",
            "\n",
            "Ejemplos\n",
            "golbach(4) = (2, 2)\n",
            "golbach(6) = (3, 3)\n",
            "golbach(8) = (3, 5) \n",
            "\n",
            "Ingrese un numero entero: 18\n",
            "golbach(18) = (5, 13)\n"
          ]
        }
      ],
      "source": [
        "def es_primo(n:int):\n",
        "  if n==1:\n",
        "    return False\n",
        "\n",
        "  p_max=n**(1/2)\n",
        "  p=2\n",
        "\n",
        "  while p<=p_max:\n",
        "    if n%p==0:\n",
        "      return False\n",
        "    p+=1\n",
        "\n",
        "  return True\n",
        "\n",
        "\n",
        "def lista_de_primos(n):\n",
        "  p=2\n",
        "  primos=[]\n",
        "\n",
        "  while p<=n:\n",
        "    if es_primo(p):\n",
        "      primos.append(p)\n",
        "    p+=1\n",
        "\n",
        "  return primos\n",
        "\n",
        "def golbach(n:int):\n",
        "  primos=lista_de_primos(n)\n",
        "\n",
        "  for p in primos:\n",
        "    for q in primos:\n",
        "      if p+q==n:\n",
        "        return (p,q)\n",
        "\n",
        "  return False\n",
        "\n",
        "print('a) Funcion \"es_primo\"\\n')\n",
        "print(\"Ejemplos\")\n",
        "print(\"es_primo(3) =\",es_primo(3))\n",
        "print(\"es_primo(4) =\",es_primo(4),\"\\n\")\n",
        "n=int(input(\"Ingrese un numero entero: \"))\n",
        "print(\"esprimo({0}) = {1}\".format(n,es_primo(n)),\"\\n\")\n",
        "print('b) Funcion \"lista_de_primos\"\\n')\n",
        "print(\"Ejemplos\")\n",
        "print(\"lista_de_primos(4) =\",lista_de_primos(4))\n",
        "print(\"lista_de_primos(6) =\",lista_de_primos(6))\n",
        "print(\"lista_de_primos(8) =\",lista_de_primos(8),\"\\n\")\n",
        "m=int(input(\"Ingrese un numero entero: \"))\n",
        "print(\"lista_de_primos({0}) = {1}\".format(m,lista_de_primos(m)),\"\\n\")\n",
        "print('c) Funcion \"golbach\"\\n')\n",
        "print(\"Ejemplos\")\n",
        "print(\"golbach(4) =\",golbach(4))\n",
        "print(\"golbach(6) =\",golbach(6))\n",
        "print(\"golbach(8) =\",golbach(8),\"\\n\")\n",
        "p=int(input(\"Ingrese un numero entero: \"))\n",
        "print(\"golbach({0}) = {1}\".format(p,golbach(p)))"
      ]
    },
    {
      "cell_type": "code",
      "source": [],
      "metadata": {
        "id": "pQThiIl8b_Im"
      },
      "id": "pQThiIl8b_Im",
      "execution_count": null,
      "outputs": []
    }
  ],
  "metadata": {
    "kernelspec": {
      "display_name": "Python 3 (ipykernel)",
      "language": "python",
      "name": "python3"
    },
    "language_info": {
      "codemirror_mode": {
        "name": "ipython",
        "version": 3
      },
      "file_extension": ".py",
      "mimetype": "text/x-python",
      "name": "python",
      "nbconvert_exporter": "python",
      "pygments_lexer": "ipython3",
      "version": "3.8.10"
    },
    "colab": {
      "provenance": []
    }
  },
  "nbformat": 4,
  "nbformat_minor": 5
}
